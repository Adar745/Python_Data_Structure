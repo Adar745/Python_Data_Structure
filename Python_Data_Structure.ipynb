{
  "nbformat": 4,
  "nbformat_minor": 0,
  "metadata": {
    "colab": {
      "provenance": [],
      "mount_file_id": "1KftLbHZitren6dKBgo8fyzvPfc9B0hZ4",
      "authorship_tag": "ABX9TyM37LWtLhCrW1+fjRg/kCGr",
      "include_colab_link": true
    },
    "kernelspec": {
      "name": "python3",
      "display_name": "Python 3"
    },
    "language_info": {
      "name": "python"
    }
  },
  "cells": [
    {
      "cell_type": "markdown",
      "metadata": {
        "id": "view-in-github",
        "colab_type": "text"
      },
      "source": [
        "<a href=\"https://colab.research.google.com/github/Adar745/Python_Data_Structure/blob/main/Python_Data_Structure.ipynb\" target=\"_parent\"><img src=\"https://colab.research.google.com/assets/colab-badge.svg\" alt=\"Open In Colab\"/></a>"
      ]
    },
    {
      "cell_type": "markdown",
      "source": [
        "1) Discuss string slicing and provide examples?"
      ],
      "metadata": {
        "id": "nT_Zo7t0yt7k"
      }
    },
    {
      "cell_type": "code",
      "execution_count": null,
      "metadata": {
        "colab": {
          "base_uri": "https://localhost:8080/"
        },
        "id": "3GJW8ZlhyfWl",
        "outputId": "248cc531-16ed-42bd-d42c-a90fccd2e589"
      },
      "outputs": [
        {
          "output_type": "stream",
          "name": "stdout",
          "text": [
            "Hello\n",
            "World!\n",
            "Hello\n"
          ]
        }
      ],
      "source": [
        "#String slicing is a feature in Python that allows you to extract parts of a string based on specified indices. A slice is created using the syntax\n",
        "#str[start:stop:step]\n",
        "#start: The index at which the slice starts (inclusive). Defaults to 0 if omitted.\n",
        "#stop: The index at which the slice ends (exclusive). It is not included in the slice. Defaults to the length of the string if omitted.\n",
        "#step: The interval between characters to include in the slice. Defaults to 1 if omitted. Can be negative for slicing in reverse.\n",
        "#Examples:\n",
        "\n",
        "text = \"Hello, World!\"\n",
        "\n",
        "\n",
        "# Slice from index 0 to 5\n",
        "print(text[0:5])  #Hello\n",
        "\n",
        "# Slice from index 7 to the end\n",
        "print(text[7:])  #World!\n",
        "\n",
        "# Slice from the beginning to index 5\n",
        "print(text[:5])  #Hello\n"
      ]
    },
    {
      "cell_type": "code",
      "source": [
        "#Slicing with Step\n",
        "# Every second character\n",
        "print(text[0:12:2])  #Hlo ol\n",
        "\n",
        "# Reverse the string\n",
        "print(text[::-1])  #!dlroW ,olleH\n"
      ],
      "metadata": {
        "colab": {
          "base_uri": "https://localhost:8080/"
        },
        "id": "MKvW-7dR0iYt",
        "outputId": "a58ba205-d240-4ae1-87f3-eb7b56e09828"
      },
      "execution_count": null,
      "outputs": [
        {
          "output_type": "stream",
          "name": "stdout",
          "text": [
            "Hlo ol\n",
            "!dlroW ,olleH\n"
          ]
        }
      ]
    },
    {
      "cell_type": "code",
      "source": [
        "#Negative Indices\n",
        "#Last 6 characters\n",
        "print(text[-6:])  #World!\n",
        "\n",
        "# Everything except the last character\n",
        "print(text[:-1])  #Hello, World\n"
      ],
      "metadata": {
        "colab": {
          "base_uri": "https://localhost:8080/"
        },
        "id": "lDCib6gx2At6",
        "outputId": "05cfd426-e211-43ee-8da1-956065f6ce9d"
      },
      "execution_count": null,
      "outputs": [
        {
          "output_type": "stream",
          "name": "stdout",
          "text": [
            "World!\n",
            "Hello, World\n"
          ]
        }
      ]
    },
    {
      "cell_type": "code",
      "source": [
        "#Advanced Usage\n",
        "# Middle section of a string\n",
        "print(text[2:9])  #llo, Wo\n",
        "\n",
        "# Skipping characters\n",
        "print(text[::3])  #Hl r!\n",
        "\n",
        "# Reverse and step by 2\n",
        "print(text[::-2])  #lo olH\n",
        "\n"
      ],
      "metadata": {
        "colab": {
          "base_uri": "https://localhost:8080/"
        },
        "id": "ziWmf5Sr2QPD",
        "outputId": "5bc73f54-c030-4172-86cb-ade78e2044a8"
      },
      "execution_count": null,
      "outputs": [
        {
          "output_type": "stream",
          "name": "stdout",
          "text": [
            "llo, Wo\n",
            "Hl r!\n",
            "!lo olH\n"
          ]
        }
      ]
    },
    {
      "cell_type": "code",
      "source": [
        "#Slicing does not modify the original string; it creates a new string.\n",
        "#Indices that go out of range are safely handled (e.g., text[:100] will stop at the end of the string).\n",
        "#A negative step indicates slicing in reverse.\n",
        "#String slicing is a powerful tool for text processing and allows precise control over how you extract and manipulate string data.\n"
      ],
      "metadata": {
        "id": "SZA1CHAr2Zva"
      },
      "execution_count": null,
      "outputs": []
    },
    {
      "cell_type": "markdown",
      "source": [
        "2) Explain the key features of lists in Python?"
      ],
      "metadata": {
        "id": "twCdAae-2m_n"
      }
    },
    {
      "cell_type": "code",
      "source": [
        "#In Python, a list is a versatile and commonly used data structure that allows you to store collections of items. Here are the key features of lists:\n",
        "#1)Ordered:\n",
        "#Lists maintain the order of elements as they are added. This means you can access elements using an index (e.g., list[0] for the first element).\n",
        "#Example:\n",
        "my_list = [10, 20, 30]\n",
        "print(my_list[1])  #20\n"
      ],
      "metadata": {
        "id": "AHRqhp9_2t3G",
        "colab": {
          "base_uri": "https://localhost:8080/"
        },
        "outputId": "44aeee12-b94d-4455-e5ad-90e7b145a320"
      },
      "execution_count": 1,
      "outputs": [
        {
          "output_type": "stream",
          "name": "stdout",
          "text": [
            "20\n"
          ]
        }
      ]
    },
    {
      "cell_type": "code",
      "source": [
        "#2)Mutable:\n",
        "#Lists can be modified after creation. You can change elements, add new items, or remove existing ones.\n",
        "#Example:\n",
        "my_list = [1, 2, 3]\n",
        "my_list[1] = 20  # Modify an element\n",
        "my_list.append(4)  # Add an element\n",
        "print(my_list)  #[1, 20, 3, 4]\n"
      ],
      "metadata": {
        "colab": {
          "base_uri": "https://localhost:8080/"
        },
        "id": "Yry1DdFmobQP",
        "outputId": "40d2e239-b0e4-41ec-8ab1-6f38420896ba"
      },
      "execution_count": 2,
      "outputs": [
        {
          "output_type": "stream",
          "name": "stdout",
          "text": [
            "[1, 20, 3, 4]\n"
          ]
        }
      ]
    },
    {
      "cell_type": "code",
      "source": [
        "#3)Allows Duplicates\n",
        "#Lists can store duplicate values.\n",
        "#Example:\n",
        "my_list = [1, 2, 2, 3]\n",
        "print(my_list)  #[1, 2, 2, 3]\n"
      ],
      "metadata": {
        "colab": {
          "base_uri": "https://localhost:8080/"
        },
        "id": "BZcyEzUHov5A",
        "outputId": "9a5302c3-6991-4e9d-e26f-02c9755be511"
      },
      "execution_count": 3,
      "outputs": [
        {
          "output_type": "stream",
          "name": "stdout",
          "text": [
            "[1, 2, 2, 3]\n"
          ]
        }
      ]
    },
    {
      "cell_type": "code",
      "source": [
        "#4) Dynamic Size\n",
        "#Lists can grow or shrink as needed. You don't need to declare their size in advance.\n",
        "#Example:\n",
        "my_list = [1, 2]\n",
        "my_list.extend([3, 4, 5])\n",
        "print(my_list)  #[1, 2, 3, 4, 5]\n"
      ],
      "metadata": {
        "colab": {
          "base_uri": "https://localhost:8080/"
        },
        "id": "WS2efj44o9N0",
        "outputId": "a2e67192-b5b1-4d8c-aa36-d2a2bbb31053"
      },
      "execution_count": 5,
      "outputs": [
        {
          "output_type": "stream",
          "name": "stdout",
          "text": [
            "[1, 2, 3, 4, 5]\n"
          ]
        }
      ]
    },
    {
      "cell_type": "code",
      "source": [
        "#5)Indexing and Slicing\n",
        "#You can access elements by index, and extract parts of the list using slicing.\n",
        "#Example:\n",
        "my_list = [10, 20, 30, 40, 50]\n",
        "print(my_list[2])  # 30\n",
        "print(my_list[1:4])  #[20, 30, 40]\n"
      ],
      "metadata": {
        "colab": {
          "base_uri": "https://localhost:8080/"
        },
        "id": "yWAQnOfzpK_u",
        "outputId": "fe2af775-4093-4ce0-8b50-8efbc1f24649"
      },
      "execution_count": 6,
      "outputs": [
        {
          "output_type": "stream",
          "name": "stdout",
          "text": [
            "30\n",
            "[20, 30, 40]\n"
          ]
        }
      ]
    },
    {
      "cell_type": "code",
      "source": [
        "#6)Heterogeneous:\n",
        "#Lists can store elements of different data types, including integers, strings, floats, and even other lists.\n",
        "#Example:\n",
        "my_list = [1, \"Hello\", 3.5, [2, 3]]\n",
        "print(my_list)  #[1, \"Hello\", 3.5, [2, 3]]\n"
      ],
      "metadata": {
        "colab": {
          "base_uri": "https://localhost:8080/"
        },
        "id": "TkMix2zPpbvI",
        "outputId": "5152d596-930d-421f-a208-2f0a665320d2"
      },
      "execution_count": 7,
      "outputs": [
        {
          "output_type": "stream",
          "name": "stdout",
          "text": [
            "[1, 'Hello', 3.5, [2, 3]]\n"
          ]
        }
      ]
    },
    {
      "cell_type": "code",
      "source": [
        "#7)Variety of Built-in Methods:\n",
        "#Lists come with a wide range of methods to manipulate and process data, such as append(), remove(), sort(), reverse(), pop(), etc.\n",
        "#Example:\n",
        "my_list = [3, 1, 4, 1, 5]\n",
        "my_list.sort()\n",
        "print(my_list)  #[1, 1, 3, 4, 5]\n",
        "my_list.remove(1)\n",
        "print(my_list)  #[1, 3, 4, 5]\n",
        "my_list.reverse()\n",
        "print(my_list)  #[5, 4, 3, 1]\n",
        "my_list.pop(2)\n",
        "print(my_list)  #[5, 4, 1]\n",
        "my_list.clear()\n",
        "print(my_list)  #[]\n",
        "my_list.append(10)\n",
        "print(my_list)  #[10]\n"
      ],
      "metadata": {
        "colab": {
          "base_uri": "https://localhost:8080/"
        },
        "id": "DVxPu3fdpoB6",
        "outputId": "979a4043-7948-4915-fc42-22b51656fb85"
      },
      "execution_count": 8,
      "outputs": [
        {
          "output_type": "stream",
          "name": "stdout",
          "text": [
            "[1, 1, 3, 4, 5]\n",
            "[1, 3, 4, 5]\n",
            "[5, 4, 3, 1]\n",
            "[5, 4, 1]\n",
            "[]\n",
            "[10]\n"
          ]
        }
      ]
    },
    {
      "cell_type": "code",
      "source": [
        "#8)Iterable:\n",
        "#Lists are iterable, meaning you can loop through their elements using for loops or comprehensions.\n",
        "#Example:\n",
        "my_list = [1, 2, 3]\n",
        "for item in my_list:\n",
        "    print(item)  #1 2 3\n"
      ],
      "metadata": {
        "colab": {
          "base_uri": "https://localhost:8080/"
        },
        "id": "I1VbgbWnqXzk",
        "outputId": "f3a239d2-add2-46e8-9cb0-fd39e39e3ae2"
      },
      "execution_count": 9,
      "outputs": [
        {
          "output_type": "stream",
          "name": "stdout",
          "text": [
            "1\n",
            "2\n",
            "3\n"
          ]
        }
      ]
    },
    {
      "cell_type": "code",
      "source": [
        "#9)Supports Nesting:\n",
        "#Lists can contain other lists, creating multi-dimensional arrays or nested structures.\n",
        "#Example:\n",
        "nested_list = [[1, 2], [3, 4], [5, 6]]\n",
        "print(nested_list[1][0])  #3\n"
      ],
      "metadata": {
        "colab": {
          "base_uri": "https://localhost:8080/"
        },
        "id": "P1NyufwTqry6",
        "outputId": "66976a6b-3c44-441a-8ab5-b9bffb5a12f4"
      },
      "execution_count": 10,
      "outputs": [
        {
          "output_type": "stream",
          "name": "stdout",
          "text": [
            "3\n"
          ]
        }
      ]
    },
    {
      "cell_type": "code",
      "source": [
        "#10) Supports Negative Indexing:\n",
        "#Negative indices allow you to access elements from the end of the list.\n",
        "#Example:\n",
        "my_list = [10, 20, 30, 40]\n",
        "print(my_list[-1])  # 40\n"
      ],
      "metadata": {
        "colab": {
          "base_uri": "https://localhost:8080/"
        },
        "id": "9uEUAF7Tq5hD",
        "outputId": "1ccbf0c1-5b50-4a4b-9451-e08055e515e3"
      },
      "execution_count": 11,
      "outputs": [
        {
          "output_type": "stream",
          "name": "stdout",
          "text": [
            "40\n"
          ]
        }
      ]
    },
    {
      "cell_type": "markdown",
      "source": [
        "3) Describe how to access, modify, and delete elements in a list with examples?"
      ],
      "metadata": {
        "id": "oGiJqJ6FrPS_"
      }
    },
    {
      "cell_type": "code",
      "source": [
        "#Here’s a detailed explanation of how to access, modify, and delete elements in a Python list, with examples:"
      ],
      "metadata": {
        "id": "N476kAPsrLqu"
      },
      "execution_count": 12,
      "outputs": []
    },
    {
      "cell_type": "code",
      "source": [
        "#1) Accessing Elements:\n",
        "#a)Accessing by Index:\n",
        "#You can access elements of a list using indexing or slicing.\n",
        "my_list = [10, 20, 30, 40, 50]\n",
        "print(my_list[0])   # 10 (first element)\n",
        "print(my_list[-1])  # 50 (last element)\n"
      ],
      "metadata": {
        "colab": {
          "base_uri": "https://localhost:8080/"
        },
        "id": "-WJCOwo-tAL4",
        "outputId": "d070fec5-bcec-4227-8f7d-816eb7d7cda2"
      },
      "execution_count": 13,
      "outputs": [
        {
          "output_type": "stream",
          "name": "stdout",
          "text": [
            "10\n",
            "50\n"
          ]
        }
      ]
    },
    {
      "cell_type": "code",
      "source": [
        "#b)Accessing a Range (Slicing):\n",
        "#Slicing allows you to access a subset of the list using list[start:end]. The end index is exclusive.\n",
        "#Example:\n",
        "my_list = [10, 20, 30, 40, 50]\n",
        "print(my_list[1:4])  # [20, 30, 40] (elements from index 1 to 3)\n",
        "print(my_list[:3])   # [10, 20, 30] (first 3 elements)\n",
        "print(my_list[3:])   # [40, 50] (elements from index 3 to the end)\n"
      ],
      "metadata": {
        "colab": {
          "base_uri": "https://localhost:8080/"
        },
        "id": "yjYtXDbLtYbN",
        "outputId": "218af47b-676b-4988-c43f-8f39c281a4cc"
      },
      "execution_count": 14,
      "outputs": [
        {
          "output_type": "stream",
          "name": "stdout",
          "text": [
            "[20, 30, 40]\n",
            "[10, 20, 30]\n",
            "[40, 50]\n"
          ]
        }
      ]
    },
    {
      "cell_type": "code",
      "source": [
        "#2)Modifying Elements\n",
        "#You can change the value of specific elements or modify parts of the list.\n",
        "#a)Changing a Single Element:\n",
        "my_list = [10, 20, 30, 40]\n",
        "my_list[2] = 300  # Modify the element at index 2\n",
        "print(my_list)    # [10, 20, 300, 40]\n",
        "\n"
      ],
      "metadata": {
        "colab": {
          "base_uri": "https://localhost:8080/"
        },
        "id": "msVc9rawtwYY",
        "outputId": "25166b95-8be4-4dc4-bdd8-3618b107c33e"
      },
      "execution_count": 15,
      "outputs": [
        {
          "output_type": "stream",
          "name": "stdout",
          "text": [
            "[10, 20, 300, 40]\n"
          ]
        }
      ]
    },
    {
      "cell_type": "code",
      "source": [
        "#b)Modifying a Range of Elements:\n",
        "my_list = [10, 20, 30, 40, 50]\n",
        "my_list[1:4] = [200, 300]  # Replace elements from index 1 to 3\n",
        "print(my_list)  #[10, 200, 300, 50]\n"
      ],
      "metadata": {
        "colab": {
          "base_uri": "https://localhost:8080/"
        },
        "id": "HrZgtfJWurZw",
        "outputId": "2e0c899c-c948-42aa-8798-a3fa2d2ad3fb"
      },
      "execution_count": 16,
      "outputs": [
        {
          "output_type": "stream",
          "name": "stdout",
          "text": [
            "[10, 200, 300, 50]\n"
          ]
        }
      ]
    },
    {
      "cell_type": "code",
      "source": [
        "#c) Adding Elements:\n",
        "my_list = [10, 20, 30]\n",
        "my_list.append(40)       # Add to the end\n",
        "my_list.insert(1, 15)    # Add 15 at index 1\n",
        "print(my_list)  # [10, 15, 20, 30, 40]\n"
      ],
      "metadata": {
        "colab": {
          "base_uri": "https://localhost:8080/"
        },
        "id": "b4JEBQA6u1pI",
        "outputId": "832bae5f-d33c-4969-8263-480b9063d5da"
      },
      "execution_count": 17,
      "outputs": [
        {
          "output_type": "stream",
          "name": "stdout",
          "text": [
            "[10, 15, 20, 30, 40]\n"
          ]
        }
      ]
    },
    {
      "cell_type": "code",
      "source": [
        "#3)Deleting Elements:\n",
        "#a)Using del Statement:\n",
        "my_list = [10, 20, 30, 40, 50]\n",
        "del my_list[1]       # Delete the element at index 1\n",
        "print(my_list)       # [10, 30, 40, 50]\n",
        "\n",
        "del my_list[1:3]     # Delete elements from index 1 to 2\n",
        "print(my_list)       # [10, 50]\n"
      ],
      "metadata": {
        "colab": {
          "base_uri": "https://localhost:8080/"
        },
        "id": "W70LqJqdu8C2",
        "outputId": "7608499f-6ebc-41de-83a0-4efe4cb75e80"
      },
      "execution_count": 18,
      "outputs": [
        {
          "output_type": "stream",
          "name": "stdout",
          "text": [
            "[10, 30, 40, 50]\n",
            "[10, 50]\n"
          ]
        }
      ]
    },
    {
      "cell_type": "code",
      "source": [
        "#b)Using remove() Method:\n",
        "my_list = [10, 20, 30, 20]\n",
        "my_list.remove(20)  # Removes the first 20\n",
        "print(my_list)      # [10, 30, 20]\n"
      ],
      "metadata": {
        "colab": {
          "base_uri": "https://localhost:8080/"
        },
        "id": "bFvpvD4XvJAJ",
        "outputId": "7bddf184-15aa-4b21-d252-489021aa2f13"
      },
      "execution_count": 19,
      "outputs": [
        {
          "output_type": "stream",
          "name": "stdout",
          "text": [
            "[10, 30, 20]\n"
          ]
        }
      ]
    },
    {
      "cell_type": "code",
      "source": [
        "#c) Using pop() Method:\n",
        "my_list = [10, 20, 30, 40]\n",
        "popped_element = my_list.pop(2)  # Remove the element at index 2\n",
        "print(popped_element)  # 30\n",
        "print(my_list)         # [10, 20, 40]\n"
      ],
      "metadata": {
        "colab": {
          "base_uri": "https://localhost:8080/"
        },
        "id": "OU7ZI9ZOvQ3F",
        "outputId": "83f8faec-3006-4f25-f486-33688f8fcd90"
      },
      "execution_count": 20,
      "outputs": [
        {
          "output_type": "stream",
          "name": "stdout",
          "text": [
            "30\n",
            "[10, 20, 40]\n"
          ]
        }
      ]
    },
    {
      "cell_type": "code",
      "source": [
        "#d) Using clear() Method:\n",
        "my_list = [10, 20, 30]\n",
        "my_list.clear()  # Removes all elements\n",
        "print(my_list)   #  []\n"
      ],
      "metadata": {
        "colab": {
          "base_uri": "https://localhost:8080/"
        },
        "id": "KdWNE1UTvY91",
        "outputId": "9610a846-b1a2-42c2-d7b8-97fe63a3cf9c"
      },
      "execution_count": 21,
      "outputs": [
        {
          "output_type": "stream",
          "name": "stdout",
          "text": [
            "[]\n"
          ]
        }
      ]
    },
    {
      "cell_type": "markdown",
      "source": [
        "4) Compare and contrast tuples and lists with examples?"
      ],
      "metadata": {
        "id": "gkRBL-V-vhgP"
      }
    },
    {
      "cell_type": "code",
      "source": [
        "#Tuples and lists are both sequence data structures in Python, but they have key differences in terms of mutability, usage, and functionality. Here's a detailed comparison:\n",
        "\n",
        "#1. Mutability:\n",
        "\n",
        "#Mutable: Elements can be modified.(list)\n",
        "\n",
        "#Immutable: Elements cannot be changed after creation.(tuple)\n",
        "\n",
        "#Example:\n",
        "#mutable:\n",
        "my_list = [10, 20, 30]\n",
        "my_list[1] = 200  # Modifying the second element\n",
        "print(my_list)  # Output: [10, 200, 30]\n",
        "\n",
        "\n",
        "#immutable:\n",
        "my_tuple = (10, 20, 30)\n",
        "my_tuple[1] = 200  # Error: Tuples do not support item assignment\n"
      ],
      "metadata": {
        "colab": {
          "base_uri": "https://localhost:8080/",
          "height": 193
        },
        "id": "Bp5TWx2uvfLj",
        "outputId": "13c50666-966c-4b40-ea2d-98e2d9467083"
      },
      "execution_count": 22,
      "outputs": [
        {
          "output_type": "stream",
          "name": "stdout",
          "text": [
            "[10, 200, 30]\n"
          ]
        },
        {
          "output_type": "error",
          "ename": "TypeError",
          "evalue": "'tuple' object does not support item assignment",
          "traceback": [
            "\u001b[0;31m---------------------------------------------------------------------------\u001b[0m",
            "\u001b[0;31mTypeError\u001b[0m                                 Traceback (most recent call last)",
            "\u001b[0;32m<ipython-input-22-14487ec465bc>\u001b[0m in \u001b[0;36m<cell line: 18>\u001b[0;34m()\u001b[0m\n\u001b[1;32m     16\u001b[0m \u001b[0;31m#immutable:\u001b[0m\u001b[0;34m\u001b[0m\u001b[0;34m\u001b[0m\u001b[0m\n\u001b[1;32m     17\u001b[0m \u001b[0mmy_tuple\u001b[0m \u001b[0;34m=\u001b[0m \u001b[0;34m(\u001b[0m\u001b[0;36m10\u001b[0m\u001b[0;34m,\u001b[0m \u001b[0;36m20\u001b[0m\u001b[0;34m,\u001b[0m \u001b[0;36m30\u001b[0m\u001b[0;34m)\u001b[0m\u001b[0;34m\u001b[0m\u001b[0;34m\u001b[0m\u001b[0m\n\u001b[0;32m---> 18\u001b[0;31m \u001b[0mmy_tuple\u001b[0m\u001b[0;34m[\u001b[0m\u001b[0;36m1\u001b[0m\u001b[0;34m]\u001b[0m \u001b[0;34m=\u001b[0m \u001b[0;36m200\u001b[0m  \u001b[0;31m# Error: Tuples do not support item assignment\u001b[0m\u001b[0;34m\u001b[0m\u001b[0;34m\u001b[0m\u001b[0m\n\u001b[0m",
            "\u001b[0;31mTypeError\u001b[0m: 'tuple' object does not support item assignment"
          ]
        }
      ]
    },
    {
      "cell_type": "code",
      "source": [
        "#2)Syntax:\n",
        "\n",
        "#list is defined as []\n",
        "#Tuples are defined as {}\n",
        "\n",
        "#Example:\n",
        "#list\n",
        "my_list = [10, 20, 30]\n",
        "#tuple\n",
        "my_tuple = (10, 20, 30)\n",
        "\n"
      ],
      "metadata": {
        "id": "iv69eEXRwk7j"
      },
      "execution_count": 23,
      "outputs": []
    },
    {
      "cell_type": "code",
      "source": [
        "#3)use case:\n",
        "#list:\n",
        "#It is Used when the collection is expected to change frequently.\n",
        "#Common in scenarios where elements are added, removed, or modified frequently.\n",
        "\n",
        "#Tuples:\n",
        "#It is Used for fixed collections where immutability is desired.\n",
        "#Common in scenarios like keys for dictionaries or returning multiple values from functions.\n",
        "\n",
        "#example:\n",
        "#List (Dynamic Collection):\n",
        "shopping_list = [\"eggs\", \"milk\"]\n",
        "shopping_list.append(\"bread\")  # Adding a new item\n",
        "print(shopping_list)  # Output: [\"eggs\", \"milk\", \"bread\"]\n",
        "\n",
        "#Tuple (Fixed Data):\n",
        "coordinates = (10.5, 20.3)  # Representing a fixed pair of values\n"
      ],
      "metadata": {
        "colab": {
          "base_uri": "https://localhost:8080/"
        },
        "id": "psnHfNsBxLn9",
        "outputId": "fb970d99-14be-4123-eb19-76ff9940d70c"
      },
      "execution_count": 24,
      "outputs": [
        {
          "output_type": "stream",
          "name": "stdout",
          "text": [
            "['eggs', 'milk', 'bread']\n"
          ]
        }
      ]
    },
    {
      "cell_type": "code",
      "source": [
        "#4. Performance:\n",
        "#list:\n",
        "#Slightly slower due to mutability overhead.\n",
        "\n",
        "#Tuple:\n",
        "#Faster due to immutability and simpler structure.\n",
        "\n",
        "#Example:\n",
        "import time\n",
        "\n",
        "# List\n",
        "start = time.time()\n",
        "my_list = [i for i in range(1000000)]\n",
        "end = time.time()\n",
        "print(f\"List creation time: {end - start}\")\n",
        "\n",
        "# Tuple\n",
        "start = time.time()\n",
        "my_tuple = tuple(range(1000000))\n",
        "end = time.time()\n",
        "print(f\"Tuple creation time: {end - start}\")\n"
      ],
      "metadata": {
        "colab": {
          "base_uri": "https://localhost:8080/"
        },
        "id": "Woi9prmfx1ej",
        "outputId": "5e7af5ed-77e4-43d5-e249-51091e72eb9b"
      },
      "execution_count": 25,
      "outputs": [
        {
          "output_type": "stream",
          "name": "stdout",
          "text": [
            "List creation time: 0.07456636428833008\n",
            "Tuple creation time: 0.0399317741394043\n"
          ]
        }
      ]
    },
    {
      "cell_type": "code",
      "source": [
        "#5) Methods:\n",
        "#Lists:\n",
        "#Lists have more methods like append(), extend(), pop(), etc.\n",
        "#Tuple:\n",
        "#Tuples have limited methods like count() and index().\n",
        "#example:\n",
        "#List Methods:\n",
        "my_list = [1, 2, 3]\n",
        "my_list.append(4)\n",
        "print(my_list)  # [1, 2, 3, 4]\n",
        "#Tuple Method:\n",
        "my_tuple = (1, 2, 3, 2)\n",
        "print(my_tuple.count(2))  # 2\n",
        "print(my_tuple.index(3))  # 2\n"
      ],
      "metadata": {
        "colab": {
          "base_uri": "https://localhost:8080/"
        },
        "id": "syP9SH06yIN0",
        "outputId": "b60b5696-e3a4-485c-87fc-7791825490b7"
      },
      "execution_count": 28,
      "outputs": [
        {
          "output_type": "stream",
          "name": "stdout",
          "text": [
            "[1, 2, 3, 4]\n",
            "2\n",
            "2\n"
          ]
        }
      ]
    },
    {
      "cell_type": "code",
      "source": [
        "#6) Memory Usage:\n",
        "#Example:\n",
        "import sys\n",
        "\n",
        "my_list = [1, 2, 3]\n",
        "my_tuple = (1, 2, 3)\n",
        "print(sys.getsizeof(my_list))  # Example : 88 bytes\n",
        "print(sys.getsizeof(my_tuple))  # Example : 72 bytes\n"
      ],
      "metadata": {
        "colab": {
          "base_uri": "https://localhost:8080/"
        },
        "id": "jySOYHxey-_0",
        "outputId": "d59bb4ad-34e2-4d59-a9d9-66dba9f5a899"
      },
      "execution_count": 29,
      "outputs": [
        {
          "output_type": "stream",
          "name": "stdout",
          "text": [
            "88\n",
            "64\n"
          ]
        }
      ]
    },
    {
      "cell_type": "code",
      "source": [
        "#7)Nesting and Mixed Types\n",
        "\n",
        "my_list = [(1, 2), (3, 4)] #List Containing Tuples:\n",
        "\n",
        "my_tuple = ([1, 2], [3, 4]) #Tuple Containing Lists:\n",
        "\n"
      ],
      "metadata": {
        "id": "r_6UxTjtzsoL"
      },
      "execution_count": 30,
      "outputs": []
    },
    {
      "cell_type": "code",
      "source": [
        "#8)Immutability Advantage:\n",
        "\n",
        "#Tuple as Dictionary Key:\n",
        "my_dict = {(1, 2): \"point\"}\n",
        "print(my_dict[(1, 2)])  #\"point\"\n",
        "\n",
        "#List as Dictionary Key (Error):\n",
        "my_dict = {[1, 2]: \"point\"}  # Error: Unhashable type: 'list'\n",
        "\n"
      ],
      "metadata": {
        "colab": {
          "base_uri": "https://localhost:8080/",
          "height": 211
        },
        "id": "b2-1DV00z941",
        "outputId": "25dff455-ca01-41af-decb-7c4865f551d8"
      },
      "execution_count": 31,
      "outputs": [
        {
          "output_type": "stream",
          "name": "stdout",
          "text": [
            "point\n"
          ]
        },
        {
          "output_type": "error",
          "ename": "TypeError",
          "evalue": "unhashable type: 'list'",
          "traceback": [
            "\u001b[0;31m---------------------------------------------------------------------------\u001b[0m",
            "\u001b[0;31mTypeError\u001b[0m                                 Traceback (most recent call last)",
            "\u001b[0;32m<ipython-input-31-6a01cc112ee7>\u001b[0m in \u001b[0;36m<cell line: 8>\u001b[0;34m()\u001b[0m\n\u001b[1;32m      6\u001b[0m \u001b[0;34m\u001b[0m\u001b[0m\n\u001b[1;32m      7\u001b[0m \u001b[0;31m#List as Dictionary Key (Error):\u001b[0m\u001b[0;34m\u001b[0m\u001b[0;34m\u001b[0m\u001b[0m\n\u001b[0;32m----> 8\u001b[0;31m \u001b[0mmy_dict\u001b[0m \u001b[0;34m=\u001b[0m \u001b[0;34m{\u001b[0m\u001b[0;34m[\u001b[0m\u001b[0;36m1\u001b[0m\u001b[0;34m,\u001b[0m \u001b[0;36m2\u001b[0m\u001b[0;34m]\u001b[0m\u001b[0;34m:\u001b[0m \u001b[0;34m\"point\"\u001b[0m\u001b[0;34m}\u001b[0m  \u001b[0;31m# Error: Unhashable type: 'list'\u001b[0m\u001b[0;34m\u001b[0m\u001b[0;34m\u001b[0m\u001b[0m\n\u001b[0m\u001b[1;32m      9\u001b[0m \u001b[0;34m\u001b[0m\u001b[0m\n",
            "\u001b[0;31mTypeError\u001b[0m: unhashable type: 'list'"
          ]
        }
      ]
    },
    {
      "cell_type": "markdown",
      "source": [
        "5) Describe the key features of sets and provide examples of their use?\n"
      ],
      "metadata": {
        "id": "gXw8OOfy0YHk"
      }
    },
    {
      "cell_type": "code",
      "source": [
        "#A set is an unordered collection of unique elements. It is useful when you need to store a collection of items without duplicates and perform common set operations like union, intersection, and difference. Here are the key features of sets in Python:\n",
        "\n",
        "#Unordered:\n",
        "my_set = {1, 2, 3, 4}  #The elements in a set are not stored in any particular order. Hence, indexing or slicing is not supported.\n",
        "print(my_set)  # {1, 2, 3, 4} (order may vary)\n"
      ],
      "metadata": {
        "colab": {
          "base_uri": "https://localhost:8080/"
        },
        "id": "RVss0xCq0Qy-",
        "outputId": "1a38ca1b-0c9a-4f99-a38a-10612fa6d19c"
      },
      "execution_count": 32,
      "outputs": [
        {
          "output_type": "stream",
          "name": "stdout",
          "text": [
            "{1, 2, 3, 4}\n"
          ]
        }
      ]
    },
    {
      "cell_type": "code",
      "source": [
        "#2)Unique Elements:\n",
        "\n",
        "my_set = {1, 2, 2, 3, 4}  #Sets automatically eliminate duplicate values.\n",
        "print(my_set)  # {1, 2, 3, 4}\n"
      ],
      "metadata": {
        "colab": {
          "base_uri": "https://localhost:8080/"
        },
        "id": "evbsjob31lrT",
        "outputId": "6aa625eb-18a0-4ab7-c905-cc01a5c7264a"
      },
      "execution_count": 33,
      "outputs": [
        {
          "output_type": "stream",
          "name": "stdout",
          "text": [
            "{1, 2, 3, 4}\n"
          ]
        }
      ]
    },
    {
      "cell_type": "code",
      "source": [
        "#3)Mutable:\n",
        "\n",
        "my_set = {1, 2, 3}  #While the set itself is mutable (you can add or remove elements), the elements in a set must be immutable (e.g., numbers, strings, tuples).\n",
        "my_set.add(4)\n",
        "print(my_set)  # {1, 2, 3, 4}\n"
      ],
      "metadata": {
        "colab": {
          "base_uri": "https://localhost:8080/"
        },
        "id": "OJfxqc751wLK",
        "outputId": "0d639d78-6b67-408c-fe81-0ac4ce7e7ced"
      },
      "execution_count": 34,
      "outputs": [
        {
          "output_type": "stream",
          "name": "stdout",
          "text": [
            "{1, 2, 3, 4}\n"
          ]
        }
      ]
    },
    {
      "cell_type": "code",
      "source": [
        "#4)Supports Set Operations:\n",
        "\n",
        "A = {1, 2, 3}     #Sets provide powerful built-in methods for set theory operations such as union, intersection, difference, and symmetric difference.\n",
        "B = {3, 4, 5}\n",
        "\n",
        "print(A | B)  # Union: {1, 2, 3, 4, 5}\n",
        "print(A & B)  # Intersection: {3}\n",
        "print(A - B)  # Difference: {1, 2}\n",
        "print(A ^ B)  # Symmetric Difference: {1, 2, 4, 5}\n"
      ],
      "metadata": {
        "colab": {
          "base_uri": "https://localhost:8080/"
        },
        "id": "dOyALXKj2BJa",
        "outputId": "633eef23-8250-4da5-822a-3f58145d7e6e"
      },
      "execution_count": 35,
      "outputs": [
        {
          "output_type": "stream",
          "name": "stdout",
          "text": [
            "{1, 2, 3, 4, 5}\n",
            "{3}\n",
            "{1, 2}\n",
            "{1, 2, 4, 5}\n"
          ]
        }
      ]
    },
    {
      "cell_type": "code",
      "source": [
        "#5)No Duplicates in Results:\n",
        "\n",
        "items = [1, 2, 2, 3, 4, 4, 5]    #Sets are great for deduplication.\n",
        "unique_items = set(items)\n",
        "print(unique_items)  #{1, 2, 3, 4, 5}\n"
      ],
      "metadata": {
        "colab": {
          "base_uri": "https://localhost:8080/"
        },
        "id": "3A12XK9y2M-2",
        "outputId": "30471f98-4126-4539-f3f1-093b3723cc9d"
      },
      "execution_count": 36,
      "outputs": [
        {
          "output_type": "stream",
          "name": "stdout",
          "text": [
            "{1, 2, 3, 4, 5}\n"
          ]
        }
      ]
    },
    {
      "cell_type": "code",
      "source": [
        "#6)Iterable\n",
        "\n",
        "my_set = {1, 2, 3}  #Sets are iterable, meaning you can loop through them using a for loop.\n",
        "for item in my_set:\n",
        "    print(item)\n"
      ],
      "metadata": {
        "colab": {
          "base_uri": "https://localhost:8080/"
        },
        "id": "SDaCN9bx2aT0",
        "outputId": "cf89f57d-4430-4367-b456-8d7baca72e1c"
      },
      "execution_count": 37,
      "outputs": [
        {
          "output_type": "stream",
          "name": "stdout",
          "text": [
            "1\n",
            "2\n",
            "3\n"
          ]
        }
      ]
    },
    {
      "cell_type": "code",
      "source": [
        "#7) No Indexing or Slicing\n",
        "\n",
        "my_set = {1, 2, 3}  #Since sets are unordered, you cannot access elements using an index.\n",
        "print(my_set[0])  # Error: 'set' object is not subscriptable\n"
      ],
      "metadata": {
        "colab": {
          "base_uri": "https://localhost:8080/",
          "height": 176
        },
        "id": "NIllGnPj2gXx",
        "outputId": "1b6dd0da-84a6-4910-870b-4ef781226b34"
      },
      "execution_count": 38,
      "outputs": [
        {
          "output_type": "error",
          "ename": "TypeError",
          "evalue": "'set' object is not subscriptable",
          "traceback": [
            "\u001b[0;31m---------------------------------------------------------------------------\u001b[0m",
            "\u001b[0;31mTypeError\u001b[0m                                 Traceback (most recent call last)",
            "\u001b[0;32m<ipython-input-38-9257895906b8>\u001b[0m in \u001b[0;36m<cell line: 4>\u001b[0;34m()\u001b[0m\n\u001b[1;32m      2\u001b[0m \u001b[0;34m\u001b[0m\u001b[0m\n\u001b[1;32m      3\u001b[0m \u001b[0mmy_set\u001b[0m \u001b[0;34m=\u001b[0m \u001b[0;34m{\u001b[0m\u001b[0;36m1\u001b[0m\u001b[0;34m,\u001b[0m \u001b[0;36m2\u001b[0m\u001b[0;34m,\u001b[0m \u001b[0;36m3\u001b[0m\u001b[0;34m}\u001b[0m  \u001b[0;31m#Since sets are unordered, you cannot access elements using an index.\u001b[0m\u001b[0;34m\u001b[0m\u001b[0;34m\u001b[0m\u001b[0m\n\u001b[0;32m----> 4\u001b[0;31m \u001b[0mprint\u001b[0m\u001b[0;34m(\u001b[0m\u001b[0mmy_set\u001b[0m\u001b[0;34m[\u001b[0m\u001b[0;36m0\u001b[0m\u001b[0;34m]\u001b[0m\u001b[0;34m)\u001b[0m  \u001b[0;31m# Error: 'set' object is not subscriptable\u001b[0m\u001b[0;34m\u001b[0m\u001b[0;34m\u001b[0m\u001b[0m\n\u001b[0m",
            "\u001b[0;31mTypeError\u001b[0m: 'set' object is not subscriptable"
          ]
        }
      ]
    },
    {
      "cell_type": "code",
      "source": [
        "#8)Dynamic Size\n",
        "\n",
        "my_set = {1, 2, 3}    #Sets can grow or shrink dynamically as you add or remove elements.\n",
        "my_set.add(4)         # Adding an element\n",
        "my_set.remove(2)      # Removing an element\n",
        "print(my_set)  # Output: {1, 3, 4}\n"
      ],
      "metadata": {
        "colab": {
          "base_uri": "https://localhost:8080/"
        },
        "id": "-jPoHo5C2n39",
        "outputId": "4a9933f1-d94e-46f6-8b06-b4156615a454"
      },
      "execution_count": 39,
      "outputs": [
        {
          "output_type": "stream",
          "name": "stdout",
          "text": [
            "{1, 3, 4}\n"
          ]
        }
      ]
    },
    {
      "cell_type": "code",
      "source": [
        "#9)Built-in Methods\n",
        "\n",
        "#Python provides a rich set of methods to operate on sets:\n",
        "\n",
        "#add(): Add a single element.\n",
        "#update(): Add multiple elements.\n",
        "#remove(): Remove an element (raises error if not present).\n",
        "#discard(): Remove an element (does not raise error if not present).\n",
        "#clear(): Remove all elements.\n",
        "#union(), intersection(), difference(), etc.\n",
        "\n",
        "#Example:\n",
        "my_set = {1, 2, 3}\n",
        "my_set.update([4, 5, 6])  # Add multiple elements\n",
        "print(my_set)  # {1, 2, 3, 4, 5, 6}\n",
        "my_set.remove(3)         # Remove an element\n",
        "print(my_set)  # {1, 2, 4, 5, 6}\n",
        "my_set.discard(5)        # Remove an element (safe)\n",
        "print(my_set)  # {1, 2, 4, 6}\n",
        "my_set.clear()           # Remove all elements\n",
        "print(my_set)  # set()\n",
        "my_set.add(7)            # Add a single element\n",
        "\n"
      ],
      "metadata": {
        "colab": {
          "base_uri": "https://localhost:8080/"
        },
        "id": "WKxd5K7l2t8M",
        "outputId": "f3515645-86a6-4b70-a20b-54e1275cc72c"
      },
      "execution_count": 40,
      "outputs": [
        {
          "output_type": "stream",
          "name": "stdout",
          "text": [
            "{1, 2, 3, 4, 5, 6}\n",
            "{1, 2, 4, 5, 6}\n",
            "{1, 2, 4, 6}\n",
            "set()\n"
          ]
        }
      ]
    },
    {
      "cell_type": "markdown",
      "source": [
        "6)  Discuss the use cases of tuples and sets in Python programming?\n"
      ],
      "metadata": {
        "id": "--EQqZqY3Ze6"
      }
    },
    {
      "cell_type": "code",
      "source": [
        "#1) Tuples:\n",
        "\n",
        "#A tuple is an immutable sequence that is ideal for fixed collections of items. It is often used in scenarios where immutability and order are important. Below are some common use cases:\n",
        "\n",
        "person = (\"Alice\", 30, \"Engineer\")   #Tuples are used to group related data into a single structure, similar to rows in a database.\n",
        "print(person[0])  # Alice\n",
        "\n",
        "def calculate(a, b):                 #Functions can return multiple values as a tuple.\n",
        "    return (a + b, a * b)\n",
        "\n",
        "result = calculate(3, 5)\n",
        "print(result)  # (8, 15)\n",
        "\n",
        "location = {(40.7128, -74.0060): \"New York\", (34.0522, -118.2437): \"Los Angeles\"}    #Tuples are ideal for fixed-size collections, like representing coordinates or RGB color values.\n",
        "print(location[(40.7128, -74.0060)])  #  New York\n",
        "\n",
        "\n",
        "my_tuple = tuple(range(1000000))  # Efficient memory usage\n",
        "\n",
        "settings = (\"dark mode\", True)\n",
        "# settings[0] = \"light mode\"  # Error: Tuples are immutable\n",
        "\n"
      ],
      "metadata": {
        "colab": {
          "base_uri": "https://localhost:8080/"
        },
        "id": "XoKliLNn3JY7",
        "outputId": "d9d8eb4e-bf89-4737-bf4f-f1ab3555e9cb"
      },
      "execution_count": 41,
      "outputs": [
        {
          "output_type": "stream",
          "name": "stdout",
          "text": [
            "Alice\n",
            "(8, 15)\n",
            "New York\n"
          ]
        }
      ]
    },
    {
      "cell_type": "code",
      "source": [
        "#2)Sets:\n",
        "\n",
        "#A set is an unordered collection of unique items that is ideal for scenarios requiring fast membership testing or operations based on mathematical set theory.\n",
        "\n",
        "items = [1, 2, 2, 3, 4, 4]      #Sets automatically eliminate duplicates, making them ideal for deduplication.\n",
        "unique_items = set(items)\n",
        "print(unique_items)  #  {1, 2, 3, 4}\n",
        "\n",
        "allowed_users = {\"Alice\", \"Bob\", \"Charlie\"}        #Sets provide efficient membership testing with the in operator.\n",
        "print(\"Alice\" in allowed_users)  #  True\n",
        "print(\"Eve\" in allowed_users)    #  False\n",
        "\n",
        "\n",
        "A = {1, 2, 3}                                    #Sets support operations like union, intersection, difference, and symmetric difference, useful in data analysis.\n",
        "B = {3, 4, 5}\n",
        "print(A | B)  # Union: {1, 2, 3, 4, 5}\n",
        "print(A & B)  # Intersection: {3}\n",
        "print(A - B)  # Difference: {1, 2}\n",
        "\n",
        "\n",
        "emails = [\"a@example.com\", \"b@example.com\", \"a@example.com\"]     #Sets are great for ensuring unique elements in large datasets.\n",
        "unique_emails = set(emails)\n",
        "print(unique_emails)  # {\"a@example.com\", \"b@example.com\"}\n",
        "\n",
        "\n",
        "large_set = set(range(1000000))                            #Sets allow fast lookups compared to lists, especially for large datasets.\n",
        "print(999999 in large_set)  #True\n",
        "\n",
        "group_a = {\"John\", \"Alice\", \"Bob\"}                     #Sets are excellent for comparing groups of data to find similarities or differences.\n",
        "group_b = {\"Alice\", \"Eve\", \"Bob\"}\n",
        "common = group_a & group_b  # Intersection\n",
        "print(common)  # Output: {\"Alice\", \"Bob\"}\n",
        "\n",
        "pairs = {(\"Alice\", \"Bob\"), (\"Bob\", \"Alice\"), (\"Alice\", \"Charlie\")}       #Sets can be used to ensure unique combinations in scenarios like pairing.\n",
        "print(pairs)  # Output: {(\"Alice\", \"Charlie\"), (\"Alice\", \"Bob\"), (\"Bob\", \"Alice\")}\n"
      ],
      "metadata": {
        "colab": {
          "base_uri": "https://localhost:8080/"
        },
        "id": "nQxeVd2b5MGs",
        "outputId": "b408cb65-a8af-4506-9869-e5ddcf71c76b"
      },
      "execution_count": 42,
      "outputs": [
        {
          "output_type": "stream",
          "name": "stdout",
          "text": [
            "{1, 2, 3, 4}\n",
            "True\n",
            "False\n",
            "{1, 2, 3, 4, 5}\n",
            "{3}\n",
            "{1, 2}\n",
            "{'b@example.com', 'a@example.com'}\n",
            "True\n",
            "{'Bob', 'Alice'}\n",
            "{('Bob', 'Alice'), ('Alice', 'Bob'), ('Alice', 'Charlie')}\n"
          ]
        }
      ]
    },
    {
      "cell_type": "markdown",
      "source": [
        "7) Describe how to add, modify, and delete items in a dictionary with examples?"
      ],
      "metadata": {
        "id": "lOtjDyOB6GFN"
      }
    },
    {
      "cell_type": "code",
      "source": [
        "#Adding, Modifying, and Deleting Items in a Python Dictionary\n",
        "\n",
        "#Dictionaries in Python are mutable, which makes it easy to add, modify, and delete key-value pairs dynamically.\n",
        "#You can add a new key-value pair to a dictionary by assigning a value to a new key. If the key already exists, the value will be updated (modified).\n",
        "\n",
        "#Example 1: Adding a Single Key-Value Pair\n",
        "# Initialize a dictionary\n",
        "my_dict = {\"name\": \"Alice\", \"age\": 25}\n",
        "\n",
        "# Add a new key-value pair\n",
        "my_dict[\"city\"] = \"New York\"\n",
        "print(my_dict)\n",
        "# {'name': 'Alice', 'age': 25, 'city': 'New York'}\n",
        "\n",
        "#Example 2: Adding Multiple Key-Value Pairs\n",
        "my_dict = {\"name\": \"Alice\", \"age\": 25}\n",
        "\n",
        "# Add multiple key-value pairs\n",
        "my_dict.update({\"city\": \"New York\", \"country\": \"USA\"})\n",
        "print(my_dict)\n",
        "#{'name': 'Alice', 'age': 25, 'city': 'New York', 'country': 'USA'}\n",
        "\n",
        "\n"
      ],
      "metadata": {
        "colab": {
          "base_uri": "https://localhost:8080/"
        },
        "id": "-A3YELX_5_Os",
        "outputId": "fde3b723-a98e-406e-fb89-aa0174803fbf"
      },
      "execution_count": 43,
      "outputs": [
        {
          "output_type": "stream",
          "name": "stdout",
          "text": [
            "{'name': 'Alice', 'age': 25, 'city': 'New York'}\n",
            "{'name': 'Alice', 'age': 25, 'city': 'New York', 'country': 'USA'}\n"
          ]
        }
      ]
    },
    {
      "cell_type": "code",
      "source": [
        "#2) Modifying Items in a Dictionary\n",
        "\n",
        "\n",
        "#Example: Modifying an Existing Value\n",
        "my_dict = {\"name\": \"Alice\", \"age\": 25, \"city\": \"New York\"}\n",
        "\n",
        "# Modify the value of an existing key\n",
        "my_dict[\"age\"] = 30\n",
        "print(my_dict)\n",
        "# {'name': 'Alice', 'age': 30, 'city': 'New York'}\n",
        "\n",
        "#Example: Using update() for Modification\n",
        "\n",
        "my_dict = {\"name\": \"Alice\", \"age\": 25}\n",
        "\n",
        "# Modify multiple key-value pairs\n",
        "my_dict.update({\"name\": \"Bob\", \"age\": 35})\n",
        "print(my_dict)\n",
        "# Output: {'name': 'Bob', 'age': 35}\n",
        "\n"
      ],
      "metadata": {
        "colab": {
          "base_uri": "https://localhost:8080/"
        },
        "id": "l7MUIVBo7GAW",
        "outputId": "38096c48-912f-433f-eaed-6f1eeb407a1c"
      },
      "execution_count": 44,
      "outputs": [
        {
          "output_type": "stream",
          "name": "stdout",
          "text": [
            "{'name': 'Alice', 'age': 30, 'city': 'New York'}\n",
            "{'name': 'Bob', 'age': 35}\n"
          ]
        }
      ]
    },
    {
      "cell_type": "code",
      "source": [
        "#3)Deleting Items from a Dictionary\n",
        "\n",
        "my_dict = {\"name\": \"Alice\", \"age\": 25, \"city\": \"New York\"}  #using del:\n",
        "\n",
        "# Delete the key 'age'\n",
        "del my_dict[\"age\"]\n",
        "print(my_dict)\n",
        "# Output: {'name': 'Alice', 'city': 'New York'}\n",
        "\n",
        "my_dict = {\"name\": \"Alice\", \"age\": 25, \"city\": \"New York\"}  #using pop\n",
        "\n",
        "# Remove and return the value of 'city'\n",
        "removed_value = my_dict.pop(\"city\")\n",
        "print(removed_value)  # Output: 'New York'\n",
        "print(my_dict)\n",
        "# Output: {'name': 'Alice', 'age': 25}\n",
        "\n",
        "my_dict = {\"name\": \"Alice\", \"age\": 25, \"city\": \"New York\"}   #using clear\n",
        "# Clear the dictionary\n",
        "my_dict.clear()\n",
        "print(my_dict)\n",
        "# Output: {}\n",
        ""
      ],
      "metadata": {
        "colab": {
          "base_uri": "https://localhost:8080/"
        },
        "id": "Rl-slu7l7d3m",
        "outputId": "486f3c26-8430-4329-c221-8f9db4c1f8e8"
      },
      "execution_count": 45,
      "outputs": [
        {
          "output_type": "stream",
          "name": "stdout",
          "text": [
            "{'name': 'Alice', 'city': 'New York'}\n",
            "New York\n",
            "{'name': 'Alice', 'age': 25}\n",
            "{}\n"
          ]
        }
      ]
    },
    {
      "cell_type": "markdown",
      "source": [
        "8) Discuss the importance of dictionary keys being immutable and provide examples?"
      ],
      "metadata": {
        "id": "LtNDfZz572dg"
      }
    },
    {
      "cell_type": "code",
      "source": [
        "#Importance of Dictionary Keys Being Immutable in Python\n",
        "\n",
        "#In Python, dictionary keys must be immutable because they are used in hashing to locate their associated values efficiently. The immutability ensures that the hash value of a key remains constant throughout its lifetime, maintaining the integrity of the data structure.\n",
        "\n",
        "#Why Must Keys Be Immutable\n",
        "\n",
        "#1. Consistent Hashing\n",
        "#Dictionaries use a hash table for storage. Each key is hashed using the `hash()` function to compute its storage location.\n",
        "#If a key could change (mutable), its hash would also change, causing the dictionary to lose track of the key-value pair.\n",
        "\n",
        "#Example: Mutable Keys Cause Problems\n",
        "# Lists are mutable and cannot be used as dictionary keys\n",
        "my_dict = {[1, 2, 3]: \"value\"}  # Error: TypeError: unhashable type: 'list'\n",
        "\n",
        "#2. Ensures Data Integrity\n",
        "#Immutability prevents accidental changes to keys, which could disrupt dictionary operations like lookups or updates.\n",
        "\n",
        "#Example: Unintended Behavior with Mutable Keys\n",
        "\n",
        "# Hypothetical example with a mutable key\n",
        "mutable_key = [1, 2, 3]\n",
        "my_dict = {mutable_key: \"value\"}\n",
        "\n",
        "mutable_key.append(4)  # Modify the key\n",
        "print(my_dict[mutable_key])  # This would fail, as the key is no longer found\n",
        "\n",
        "#Python avoids this by enforcing immutability.\n",
        "#3. Faster Lookups\n",
        "#The immutability of keys ensures predictable behavior during lookups. This makes dictionaries highly efficient, with an average time complexity of \\( O(1) \\) for lookups.\n",
        "\n",
        "#Examples of Immutable and Mutable Types\n",
        "#|   Immutable Types (Allowed as Keys)   |   Mutable Types (Not Allowed as Keys)   |\n",
        "#|---------------------------------------|-----------------------------------------|\n",
        "#| Strings (`\"key\"`)                     | Lists (`[1, 2, 3]`)                     |\n",
        "#| Tuples (`(1, 2)`)                     | Sets (`{1, 2, 3}`)                      |\n",
        "#| Integers (`1`)                        | Dictionaries (`{\"key\": \"value\"}`)       |\n",
        "#| Floats (`1.5`)                        |                                         |\n",
        "#| Booleans (`True`, `False`)            |                                         |\n",
        "\n",
        "#Valid Keys in Dictionaries\n",
        "\n",
        "####1. String Key\n",
        "\n",
        "my_dict = {\"name\": \"Alice\"}\n",
        "print(my_dict[\"name\"])  # Output: Alice\n",
        "\n",
        "#2. Integer Key\n",
        "\n",
        "my_dict = {1: \"one\", 2: \"two\"}\n",
        "print(my_dict[1])  # Output: one\n",
        "\n",
        "\n",
        "#3. Tuple Key\n",
        "#Tuples can be used as keys if all their elements are also immutable.\n",
        "\n",
        "my_dict = {(1, 2): \"coordinates\"}\n",
        "print(my_dict[(1, 2)])  # Output: coordinates\n",
        "\n",
        "\n",
        "#Common Errors with Mutable Keys\n",
        "\n",
        "#Example 1: List as a Key\n",
        "\n",
        "# Attempting to use a list as a dictionary key\n",
        "my_dict = {[1, 2, 3]: \"value\"}  # Error: TypeError: unhashable type: 'list'\n",
        "\n",
        "\n",
        "#Example 2: Mutable Tuple as a Key\n",
        "#If a tuple contains mutable objects, it cannot be used as a key.\n",
        "\n",
        "# Tuple with a list (mutable) as an element\n",
        "mutable_tuple = ([1, 2, 3],)\n",
        "my_dict = {mutable_tuple: \"value\"}  # Error: TypeError: unhashable type: 'list'\n",
        "\n",
        "\n",
        "\n",
        "#How to Use Immutable Substitutes\n",
        "\n",
        "#Use Tuples Instead of Lists\n",
        "#If you need to use something like a list as a key, convert it to a tuple (immutable).\n",
        "\n",
        "my_dict = {tuple([1, 2, 3]): \"value\"}\n",
        "print(my_dict[(1, 2, 3)])  # Output: value\n",
        "\n",
        "\n",
        "#Conclusion\n",
        "\n",
        "#The immutability of dictionary keys is crucial for:\n",
        "# Maintaining the integrity of the hash table.\n",
        "# Ensuring efficient and predictable lookups.\n",
        "# Preventing accidental modifications that could lead to errors.\n",
        "\n",
        "#Always use immutable types like strings, integers, or tuples for dictionary keys to leverage Python dictionaries effectively."
      ],
      "metadata": {
        "colab": {
          "base_uri": "https://localhost:8080/",
          "height": 211
        },
        "id": "4xkw3B0k7yFX",
        "outputId": "9836f7d3-b24b-452a-e220-d250e105942d"
      },
      "execution_count": 47,
      "outputs": [
        {
          "output_type": "error",
          "ename": "TypeError",
          "evalue": "unhashable type: 'list'",
          "traceback": [
            "\u001b[0;31m---------------------------------------------------------------------------\u001b[0m",
            "\u001b[0;31mTypeError\u001b[0m                                 Traceback (most recent call last)",
            "\u001b[0;32m<ipython-input-47-f3365712db78>\u001b[0m in \u001b[0;36m<cell line: 13>\u001b[0;34m()\u001b[0m\n\u001b[1;32m     11\u001b[0m \u001b[0;31m#Example: Mutable Keys Cause Problems\u001b[0m\u001b[0;34m\u001b[0m\u001b[0;34m\u001b[0m\u001b[0m\n\u001b[1;32m     12\u001b[0m \u001b[0;31m# Lists are mutable and cannot be used as dictionary keys\u001b[0m\u001b[0;34m\u001b[0m\u001b[0;34m\u001b[0m\u001b[0m\n\u001b[0;32m---> 13\u001b[0;31m \u001b[0mmy_dict\u001b[0m \u001b[0;34m=\u001b[0m \u001b[0;34m{\u001b[0m\u001b[0;34m[\u001b[0m\u001b[0;36m1\u001b[0m\u001b[0;34m,\u001b[0m \u001b[0;36m2\u001b[0m\u001b[0;34m,\u001b[0m \u001b[0;36m3\u001b[0m\u001b[0;34m]\u001b[0m\u001b[0;34m:\u001b[0m \u001b[0;34m\"value\"\u001b[0m\u001b[0;34m}\u001b[0m  \u001b[0;31m# Error: TypeError: unhashable type: 'list'\u001b[0m\u001b[0;34m\u001b[0m\u001b[0;34m\u001b[0m\u001b[0m\n\u001b[0m\u001b[1;32m     14\u001b[0m \u001b[0;34m\u001b[0m\u001b[0m\n\u001b[1;32m     15\u001b[0m \u001b[0;31m#2. Ensures Data Integrity\u001b[0m\u001b[0;34m\u001b[0m\u001b[0;34m\u001b[0m\u001b[0m\n",
            "\u001b[0;31mTypeError\u001b[0m: unhashable type: 'list'"
          ]
        }
      ]
    },
    {
      "cell_type": "code",
      "source": [],
      "metadata": {
        "id": "i7ILlPxt95HG"
      },
      "execution_count": null,
      "outputs": []
    }
  ]
}